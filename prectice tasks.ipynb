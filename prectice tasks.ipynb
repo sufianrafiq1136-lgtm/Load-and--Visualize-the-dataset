{
 "cells": [
  {
   "metadata": {},
   "cell_type": "code",
   "source": [
    "import pandas as pd\n",
    "import numpy as np\n",
    "import seaborn as sns"
   ],
   "id": "e659781dc421cc67",
   "outputs": [],
   "execution_count": null
  },
  {
   "metadata": {},
   "cell_type": "code",
   "source": "sns.get_dataset_names()",
   "id": "50ddfa74dbebadda",
   "outputs": [],
   "execution_count": null
  },
  {
   "metadata": {},
   "cell_type": "code",
   "source": "iris=sns.load_dataset(\"iris\")",
   "id": "7092053915f25f8c",
   "outputs": [],
   "execution_count": null
  },
  {
   "metadata": {},
   "cell_type": "code",
   "source": [
    "iris.head()\n",
    "iris.describe()\n",
    "iris.info()"
   ],
   "id": "126da9eb7134c191",
   "outputs": [],
   "execution_count": null
  },
  {
   "metadata": {},
   "cell_type": "code",
   "source": "sns.scatterplot(data=iris, x='sepal_length', y='sepal_width', hue='species')",
   "id": "12006a2752c0cfa1",
   "outputs": [],
   "execution_count": null
  },
  {
   "metadata": {},
   "cell_type": "code",
   "source": [
    "# sns.histplot(data=iris, x='sepal_length', y='sepal_width',bins=100)\n",
    "iris.hist(figsize=(10, 6), bins=20)"
   ],
   "id": "4dec376c2f997c0e",
   "outputs": [],
   "execution_count": null
  },
  {
   "metadata": {},
   "cell_type": "code",
   "source": "sns.boxplot(data=iris , x='sepal_length', y='sepal_width',hue='species')",
   "id": "a27fb52c3cca998",
   "outputs": [],
   "execution_count": null
  }
 ],
 "metadata": {
  "kernelspec": {
   "display_name": "Python 3",
   "language": "python",
   "name": "python3"
  },
  "language_info": {
   "codemirror_mode": {
    "name": "ipython",
    "version": 2
   },
   "file_extension": ".py",
   "mimetype": "text/x-python",
   "name": "python",
   "nbconvert_exporter": "python",
   "pygments_lexer": "ipython2",
   "version": "2.7.6"
  }
 },
 "nbformat": 4,
 "nbformat_minor": 5
}
