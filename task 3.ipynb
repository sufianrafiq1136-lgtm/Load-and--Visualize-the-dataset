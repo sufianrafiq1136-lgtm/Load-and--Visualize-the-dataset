{
 "cells": [
  {
   "metadata": {},
   "cell_type": "markdown",
   "source": "# making a modle pidicting heart diease",
   "id": "c330ca997fbc3b59"
  },
  {
   "metadata": {},
   "cell_type": "code",
   "source": [
    "import numpy as np\n",
    "import matplotlib.pyplot as plt\n",
    "import pandas as pd\n",
    "import seaborn as sns"
   ],
   "id": "3c0e21f1cc74876",
   "outputs": [],
   "execution_count": null
  },
  {
   "metadata": {},
   "cell_type": "code",
   "source": "df =pd.read_csv(\"heart.csv\")",
   "id": "49f47cda1fb62f22",
   "outputs": [],
   "execution_count": null
  },
  {
   "metadata": {},
   "cell_type": "code",
   "source": "df.isnull().sum()",
   "id": "ce7ad7735c015232",
   "outputs": [],
   "execution_count": null
  },
  {
   "metadata": {},
   "cell_type": "code",
   "source": [
    "# For numerical columns\n",
    "df['trestbps'].fillna(df['trestbps'].median(), inplace=False)\n",
    "df['chol'].fillna(df['chol'].median(), inplace=False)\n",
    "df['thalch'].fillna(df['thalch'].median(), inplace=False)"
   ],
   "id": "26db2f026d3b560b",
   "outputs": [],
   "execution_count": null
  },
  {
   "metadata": {},
   "cell_type": "code",
   "source": [
    "df['fbs'].fillna(df['fbs'].mode()[0], inplace=False )\n",
    "df['restecg'].fillna(df['restecg'].mode()[0], inplace=Fasle)"
   ],
   "id": "9046512a48afd422",
   "outputs": [],
   "execution_count": null
  },
  {
   "metadata": {},
   "cell_type": "code",
   "source": "df.dropna(inplace=False)",
   "id": "fe88f92d22fc7b2",
   "outputs": [],
   "execution_count": null
  },
  {
   "metadata": {},
   "cell_type": "code",
   "source": [
    "      # Summary stats\n",
    "print(df.info())             # Data types"
   ],
   "id": "80af3e9c32720bd6",
   "outputs": [],
   "execution_count": null
  },
  {
   "metadata": {},
   "cell_type": "code",
   "source": [
    "\n",
    "print(df.describe())"
   ],
   "id": "715b9e311f575c91",
   "outputs": [],
   "execution_count": null
  },
  {
   "metadata": {},
   "cell_type": "code",
   "source": "print(df.columns)",
   "id": "3773c9167124b0de",
   "outputs": [],
   "execution_count": null
  },
  {
   "metadata": {},
   "cell_type": "code",
   "source": [
    "# Select only numeric columns\n",
    "numeric_df = df.select_dtypes(include='number')\n",
    "\n",
    "# Plot the correlation heatmap\n",
    "plt.figure(figsize=(10, 8))\n",
    "sns.heatmap(numeric_df.corr(), annot=True, cmap='coolwarm')\n",
    "plt.title(\"Correlation Heatmap\")\n",
    "plt.show()\n"
   ],
   "id": "e423b8ceeb8643f9",
   "outputs": [],
   "execution_count": null
  },
  {
   "metadata": {},
   "cell_type": "code",
   "source": [
    "import seaborn as sns\n",
    "import matplotlib.pyplot as plt\n",
    "\n",
    "sns.countplot(x=\"num\", data=df)\n",
    "plt.title(\"Heart Disease Count\")\n",
    "plt.xlabel(\"Heart Disease Severity\")\n",
    "plt.ylabel(\"Number of Patients\")\n",
    "plt.show()\n"
   ],
   "id": "ef01b0edf62c1b3f",
   "outputs": [],
   "execution_count": null
  },
  {
   "metadata": {},
   "cell_type": "code",
   "source": [
    "X = df.drop(\"num\", axis=1)\n",
    "y = df[\"num\"]\n"
   ],
   "id": "9adee1f011d7ccbe",
   "outputs": [],
   "execution_count": null
  },
  {
   "metadata": {},
   "cell_type": "code",
   "source": [
    "from sklearn.model_selection import train_test_split\n",
    "\n",
    "X_train, X_test, y_train, y_test = train_test_split(X, y, test_size=0.2, random_state=42)\n"
   ],
   "id": "fac221875ccae96a",
   "outputs": [],
   "execution_count": null
  },
  {
   "metadata": {},
   "cell_type": "code",
   "source": [
    "print(X_encoded.isnull().sum())\n",
    "\n",
    "\n"
   ],
   "id": "8c0cf392bfecb3a1",
   "outputs": [],
   "execution_count": null
  },
  {
   "metadata": {},
   "cell_type": "code",
   "source": "X_encoded = pd.get_dummies(X, drop_first=True)",
   "id": "9cacd71233608736",
   "outputs": [],
   "execution_count": null
  },
  {
   "metadata": {},
   "cell_type": "code",
   "source": [
    "X_encoded_dropped = X_encoded.dropna()\n",
    "y_dropped = y[X_encoded_dropped.index]\n",
    "\n",
    "X_train, X_test, y_train, y_test = train_test_split(X_encoded_dropped, y_dropped, test_size=0.2, random_state=42)\n",
    "\n"
   ],
   "id": "86657c7505e9bb4",
   "outputs": [],
   "execution_count": null
  },
  {
   "metadata": {},
   "cell_type": "code",
   "source": [
    "from sklearn.impute import SimpleImputer\n",
    "\n",
    "imputer = SimpleImputer(strategy='mean')\n",
    "X_encoded = pd.DataFrame(imputer.fit_transform(X_encoded), columns=X_encoded.columns)\n",
    "\n",
    "X_train, X_test, y_train, y_test = train_test_split(X_encoded, y, test_size=0.2, random_state=42)\n",
    "\n",
    "model = LogisticRegression(max_iter=1000)\n",
    "model.fit(X_train, y_train)\n"
   ],
   "id": "f588ea922a95f5eb",
   "outputs": [],
   "execution_count": null
  },
  {
   "metadata": {},
   "cell_type": "code",
   "source": [
    "from sklearn.metrics import accuracy_score, confusion_matrix, classification_report\n",
    "\n",
    "y_pred = model.predict(X_test)\n",
    "\n",
    "# Accuracy\n",
    "print(\"Accuracy:\", accuracy_score(y_test, y_pred))\n",
    "\n",
    "# Confusion Matrix\n",
    "print(\"Confusion Matrix:\")\n",
    "print(confusion_matrix(y_test, y_pred))\n",
    "\n",
    "# Classification Report\n",
    "print(\"Classification Report:\")\n",
    "print(classification_report(y_test, y_pred))\n"
   ],
   "id": "df42b20971488021",
   "outputs": [],
   "execution_count": null
  },
  {
   "metadata": {},
   "cell_type": "code",
   "source": [
    "# Convert to binary target\n",
    "y_binary = y.copy()\n",
    "y_binary[y_binary > 0] = 1\n"
   ],
   "id": "f886d6ba018ff071",
   "outputs": [],
   "execution_count": null
  },
  {
   "metadata": {},
   "cell_type": "code",
   "source": [
    "X_train, X_test, y_train, y_test = train_test_split(X_encoded, y_binary, test_size=0.2, random_state=42)\n",
    "model.fit(X_train, y_train)\n",
    "\n"
   ],
   "id": "7f1379c1236b8c96",
   "outputs": [],
   "execution_count": null
  },
  {
   "metadata": {},
   "cell_type": "code",
   "source": [
    "from sklearn.tree import DecisionTreeClassifier\n",
    "from sklearn.ensemble import RandomForestClassifier\n",
    "\n",
    "# Decision Tree\n",
    "dt = DecisionTreeClassifier()\n",
    "dt.fit(X_train, y_train)\n",
    "print(\"DT Accuracy:\", accuracy_score(y_test, dt.predict(X_test)))\n",
    "\n",
    "# Random Forest\n",
    "rf = RandomForestClassifier()\n",
    "rf.fit(X_train, y_train)\n",
    "print(\"RF Accuracy:\", accuracy_score(y_test, rf.predict(X_test)))\n"
   ],
   "id": "5738aa4410abf606",
   "outputs": [],
   "execution_count": null
  },
  {
   "metadata": {},
   "cell_type": "code",
   "source": [
    "import pandas as pd\n",
    "\n",
    "feature_importance = pd.Series(rf.feature_importances_, index=X_encoded.columns)\n",
    "feature_importance.sort_values(ascending=False).plot(kind='bar', figsize=(10,5), title=\"Feature Importance\")\n",
    "plt.tight_layout()\n",
    "plt.show()\n"
   ],
   "id": "35802722dc8daf0b",
   "outputs": [],
   "execution_count": null
  }
 ],
 "metadata": {
  "kernelspec": {
   "display_name": "Python 3",
   "language": "python",
   "name": "python3"
  },
  "language_info": {
   "codemirror_mode": {
    "name": "ipython",
    "version": 2
   },
   "file_extension": ".py",
   "mimetype": "text/x-python",
   "name": "python",
   "nbconvert_exporter": "python",
   "pygments_lexer": "ipython2",
   "version": "2.7.6"
  }
 },
 "nbformat": 4,
 "nbformat_minor": 5
}
